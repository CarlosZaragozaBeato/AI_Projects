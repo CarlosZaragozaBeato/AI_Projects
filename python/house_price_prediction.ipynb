{
  "nbformat": 4,
  "nbformat_minor": 0,
  "metadata": {
    "colab": {
      "provenance": []
    },
    "kernelspec": {
      "name": "python3",
      "display_name": "Python 3"
    },
    "language_info": {
      "name": "python"
    }
  },
  "cells": [
    {
      "cell_type": "code",
      "source": [
        "# 2. House Price Prediction"
      ],
      "metadata": {
        "id": "f_4l_V33-hLV"
      },
      "execution_count": null,
      "outputs": []
    },
    {
      "cell_type": "code",
      "source": [
        "import torch\n",
        "import torch.nn as nn\n",
        "import torch.optim as optim\n",
        "from torch.utils.data import DataLoader, TensorDataset\n",
        "import numpy as np\n",
        "import pandas as pd\n",
        "from sklearn.model_selection import train_test_split\n",
        "from sklearn.preprocessing import StandardScaler"
      ],
      "metadata": {
        "id": "v9G1bSx-Mis6"
      },
      "execution_count": 17,
      "outputs": []
    },
    {
      "cell_type": "code",
      "source": [
        "np.random.seed(42)\n",
        "X = np.random.rand(500, 5)\n",
        "y = np.random.rand(500) * 1000"
      ],
      "metadata": {
        "id": "fAZ88IFMM1aq"
      },
      "execution_count": 18,
      "outputs": []
    },
    {
      "cell_type": "code",
      "source": [
        "df = pd.DataFrame(X, columns=['Feature1', 'Feature2', 'Feature3', 'Feature4', 'Feature5'])\n",
        "df['Price'] = y"
      ],
      "metadata": {
        "id": "BFaklya_PVFk"
      },
      "execution_count": 19,
      "outputs": []
    },
    {
      "cell_type": "code",
      "source": [
        "X_train, X_test, y_train, y_test = train_test_split(df.drop('Price', axis=1),\n",
        "                                                    df['Price'], test_size=0.2, random_state=42)"
      ],
      "metadata": {
        "id": "cZwqpmcpPY9u"
      },
      "execution_count": 20,
      "outputs": []
    },
    {
      "cell_type": "code",
      "source": [
        "scaler = StandardScaler()\n",
        "X_train = scaler.fit_transform(X_train)\n",
        "X_test = scaler.transform(X_test)"
      ],
      "metadata": {
        "id": "4Ytte2LtP4Yo"
      },
      "execution_count": 21,
      "outputs": []
    },
    {
      "cell_type": "code",
      "source": [
        "X_train_tensor = torch.FloatTensor(X_train)\n",
        "y_train_tensor = torch.FloatTensor(y_train.values)\n",
        "X_test_tensor = torch.FloatTensor(X_test)\n",
        "y_test_tensor = torch.FloatTensor(y_test.values)"
      ],
      "metadata": {
        "id": "de9amNnOQBah"
      },
      "execution_count": 22,
      "outputs": []
    },
    {
      "cell_type": "code",
      "source": [
        "train_dataset = TensorDataset(X_train_tensor, y_train_tensor)\n",
        "test_dataset = TensorDataset(X_test_tensor, y_test_tensor)\n",
        "\n",
        "train_loader = DataLoader(train_dataset, batch_size=32, shuffle=True)\n",
        "test_loader = DataLoader(test_dataset, batch_size=32, shuffle=False)"
      ],
      "metadata": {
        "id": "RAiLycqeQUtq"
      },
      "execution_count": 23,
      "outputs": []
    },
    {
      "cell_type": "code",
      "source": [
        "class HousePricePredictor(nn.Module):\n",
        "  def __init__(self):\n",
        "    super(HousePricePredictor, self).__init__()\n",
        "    self.fc1 = nn.Linear(5, 32)\n",
        "    self.fc2 = nn.Linear(32, 16)\n",
        "    self.fc3 = nn.Linear(16, 1)\n",
        "\n",
        "  def forward(self, x):\n",
        "    x = torch.relu(self.fc1(x))\n",
        "    x = torch.relu(self.fc2(x))\n",
        "    x = self.fc3(x)\n",
        "    return x\n",
        "\n",
        "model = HousePricePredictor()"
      ],
      "metadata": {
        "id": "giFC7mFGRgpJ"
      },
      "execution_count": 24,
      "outputs": []
    },
    {
      "cell_type": "code",
      "source": [
        "criterion = nn.MSELoss()\n",
        "optimizer = optim.Adam(model.parameters(), lr=0.01)"
      ],
      "metadata": {
        "id": "BV1lJmQASH-3"
      },
      "execution_count": 25,
      "outputs": []
    },
    {
      "cell_type": "code",
      "source": [
        "epochs = 100\n",
        "\n",
        "for epoch in range(epochs):\n",
        "  model.train()\n",
        "  running_loss = 0.0\n",
        "\n",
        "  for inputs, labels in train_loader:\n",
        "    optimizer.zero_grad()\n",
        "\n",
        "    outputs = model(inputs).squeeze()\n",
        "    loss = criterion(outputs, labels)\n",
        "    loss.backward()\n",
        "    optimizer.step()\n",
        "\n",
        "    running_loss += loss.item()\n",
        "\n",
        "  print(f\"Epoch {epoch + 1}, Loss: {running_loss / len(train_loader)}\")"
      ],
      "metadata": {
        "colab": {
          "base_uri": "https://localhost:8080/"
        },
        "id": "3EGQi8euScQD",
        "outputId": "49cfe41f-9e6a-4106-c17f-6136c30b5b2a"
      },
      "execution_count": 26,
      "outputs": [
        {
          "output_type": "stream",
          "name": "stdout",
          "text": [
            "Epoch 1, Loss: 339195.08173076925\n",
            "Epoch 2, Loss: 332302.61778846156\n",
            "Epoch 3, Loss: 309574.9747596154\n",
            "Epoch 4, Loss: 267806.65625\n",
            "Epoch 5, Loss: 198470.234375\n",
            "Epoch 6, Loss: 127212.06280048077\n",
            "Epoch 7, Loss: 95188.51923076923\n",
            "Epoch 8, Loss: 92641.51802884616\n",
            "Epoch 9, Loss: 91496.57752403847\n",
            "Epoch 10, Loss: 88997.54146634616\n",
            "Epoch 11, Loss: 89010.60006009616\n",
            "Epoch 12, Loss: 89407.60036057692\n",
            "Epoch 13, Loss: 87968.01983173077\n",
            "Epoch 14, Loss: 87226.75180288461\n",
            "Epoch 15, Loss: 87023.94230769231\n",
            "Epoch 16, Loss: 87096.66917067308\n",
            "Epoch 17, Loss: 88550.47085336539\n",
            "Epoch 18, Loss: 86740.84134615384\n",
            "Epoch 19, Loss: 87555.66075721153\n",
            "Epoch 20, Loss: 86726.55528846153\n",
            "Epoch 21, Loss: 86599.36808894231\n",
            "Epoch 22, Loss: 87464.72295673077\n",
            "Epoch 23, Loss: 86524.43990384616\n",
            "Epoch 24, Loss: 85692.69200721153\n",
            "Epoch 25, Loss: 85618.98106971153\n",
            "Epoch 26, Loss: 84890.4296875\n",
            "Epoch 27, Loss: 85677.79326923077\n",
            "Epoch 28, Loss: 84305.18599759616\n",
            "Epoch 29, Loss: 86724.43149038461\n",
            "Epoch 30, Loss: 84980.44741586539\n",
            "Epoch 31, Loss: 85888.33112980769\n",
            "Epoch 32, Loss: 85722.15865384616\n",
            "Epoch 33, Loss: 83684.97836538461\n",
            "Epoch 34, Loss: 85682.51923076923\n",
            "Epoch 35, Loss: 84453.29897836539\n",
            "Epoch 36, Loss: 85545.58894230769\n",
            "Epoch 37, Loss: 84435.96153846153\n",
            "Epoch 38, Loss: 83314.04086538461\n",
            "Epoch 39, Loss: 83741.68689903847\n",
            "Epoch 40, Loss: 83626.69891826923\n",
            "Epoch 41, Loss: 84075.83653846153\n",
            "Epoch 42, Loss: 85258.87740384616\n",
            "Epoch 43, Loss: 84010.08503605769\n",
            "Epoch 44, Loss: 84143.99188701923\n",
            "Epoch 45, Loss: 83297.31069711539\n",
            "Epoch 46, Loss: 84433.94951923077\n",
            "Epoch 47, Loss: 84526.83203125\n",
            "Epoch 48, Loss: 84072.984375\n",
            "Epoch 49, Loss: 84193.39903846153\n",
            "Epoch 50, Loss: 83397.29026442308\n",
            "Epoch 51, Loss: 82397.34134615384\n",
            "Epoch 52, Loss: 84252.39182692308\n",
            "Epoch 53, Loss: 85296.23707932692\n",
            "Epoch 54, Loss: 83280.37620192308\n",
            "Epoch 55, Loss: 83028.21995192308\n",
            "Epoch 56, Loss: 82884.20492788461\n",
            "Epoch 57, Loss: 84062.76983173077\n",
            "Epoch 58, Loss: 83002.7578125\n",
            "Epoch 59, Loss: 82934.46905048077\n",
            "Epoch 60, Loss: 82870.18810096153\n",
            "Epoch 61, Loss: 83312.38882211539\n",
            "Epoch 62, Loss: 82646.74879807692\n",
            "Epoch 63, Loss: 84123.80078125\n",
            "Epoch 64, Loss: 82142.60847355769\n",
            "Epoch 65, Loss: 82005.18930288461\n",
            "Epoch 66, Loss: 83869.06610576923\n",
            "Epoch 67, Loss: 83110.91706730769\n",
            "Epoch 68, Loss: 84156.63461538461\n",
            "Epoch 69, Loss: 83137.04236778847\n",
            "Epoch 70, Loss: 84071.53064903847\n",
            "Epoch 71, Loss: 82899.97776442308\n",
            "Epoch 72, Loss: 84559.67367788461\n",
            "Epoch 73, Loss: 83805.37920673077\n",
            "Epoch 74, Loss: 82214.68509615384\n",
            "Epoch 75, Loss: 82156.40324519231\n",
            "Epoch 76, Loss: 82874.01141826923\n",
            "Epoch 77, Loss: 81959.37680288461\n",
            "Epoch 78, Loss: 82242.54897836539\n",
            "Epoch 79, Loss: 81624.99549278847\n",
            "Epoch 80, Loss: 83545.66316105769\n",
            "Epoch 81, Loss: 81991.07722355769\n",
            "Epoch 82, Loss: 83330.76532451923\n",
            "Epoch 83, Loss: 82066.96664663461\n",
            "Epoch 84, Loss: 82151.64633413461\n",
            "Epoch 85, Loss: 82081.03455528847\n",
            "Epoch 86, Loss: 83018.65685096153\n",
            "Epoch 87, Loss: 82572.00300480769\n",
            "Epoch 88, Loss: 83233.14543269231\n",
            "Epoch 89, Loss: 82619.77614182692\n",
            "Epoch 90, Loss: 83401.81280048077\n",
            "Epoch 91, Loss: 83163.11628605769\n",
            "Epoch 92, Loss: 82811.18509615384\n",
            "Epoch 93, Loss: 82712.19591346153\n",
            "Epoch 94, Loss: 82391.17608173077\n",
            "Epoch 95, Loss: 81635.12530048077\n",
            "Epoch 96, Loss: 84512.43479567308\n",
            "Epoch 97, Loss: 82024.95462740384\n",
            "Epoch 98, Loss: 83579.65564903847\n",
            "Epoch 99, Loss: 81524.09344951923\n",
            "Epoch 100, Loss: 83731.17638221153\n"
          ]
        }
      ]
    },
    {
      "cell_type": "code",
      "source": [
        "model.eval()\n",
        "test_loss = 0.0\n",
        "\n",
        "with torch.no_grad():\n",
        "  for inputs, labels in test_loader:\n",
        "    outputs = model(inputs).squeeze()\n",
        "    loss = criterion(outputs, labels)\n",
        "    test_loss += loss.item()\n",
        "print(f\"Test Loss: {test_loss/len(test_loader)}\")"
      ],
      "metadata": {
        "colab": {
          "base_uri": "https://localhost:8080/"
        },
        "id": "d4fsO175SvuB",
        "outputId": "8db9def5-06fb-45a9-acae-4a601780af3a"
      },
      "execution_count": 28,
      "outputs": [
        {
          "output_type": "stream",
          "name": "stdout",
          "text": [
            "Test Loss: 109155.228515625\n"
          ]
        }
      ]
    },
    {
      "cell_type": "code",
      "source": [
        "new_data = torch.FloatTensor(np.random.rand(3, 5))\n",
        "\n",
        "new_data_standardized = torch.FloatTensor(scaler.transform(new_data))\n",
        "\n",
        "model.eval()\n",
        "with torch.no_grad():\n",
        "  predictions = model(new_data_standardized).squeeze()\n",
        "\n",
        "print(\"New Data Predictions: \")\n",
        "print(predictions)"
      ],
      "metadata": {
        "colab": {
          "base_uri": "https://localhost:8080/"
        },
        "id": "L8kg1zrnTiDd",
        "outputId": "33c07efd-76f3-4e91-fe67-a05eeea86e85"
      },
      "execution_count": 30,
      "outputs": [
        {
          "output_type": "stream",
          "name": "stdout",
          "text": [
            "New Data Predictions: \n",
            "tensor([483.3342, 488.2995, 462.8326])\n"
          ]
        },
        {
          "output_type": "stream",
          "name": "stderr",
          "text": [
            "/usr/local/lib/python3.11/dist-packages/sklearn/utils/validation.py:2739: UserWarning: X does not have valid feature names, but StandardScaler was fitted with feature names\n",
            "  warnings.warn(\n"
          ]
        }
      ]
    },
    {
      "cell_type": "markdown",
      "source": [
        "1. **Import libraries** : For data manipulation, model creation, and training\n",
        "2. **Load Data**: Load and preprocess(normalize) the dataset.\n",
        "3. **DataLoader**: Use DataLoader for managing data batches.\n",
        "4. **Define Model**: Build a neural network for regression\n",
        "5. **Loss & Optimizer**: Use MSE loss and Adam optimizer.\n",
        "6. **Train**: Implement the training loop\n",
        "7. **Evaluate**: Check the performance using the test set.\n",
        "8. **Predict**: Predict on new unseen data."
      ],
      "metadata": {
        "id": "iRHxCBwVUBIE"
      }
    },
    {
      "cell_type": "code",
      "source": [],
      "metadata": {
        "id": "MH-3D-1NT5Fs"
      },
      "execution_count": null,
      "outputs": []
    }
  ]
}